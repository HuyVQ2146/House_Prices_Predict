{
 "cells": [
  {
   "cell_type": "markdown",
   "id": "da071c3c",
   "metadata": {},
   "source": [
    "# Preprocessing\n"
   ]
  },
  {
   "cell_type": "markdown",
   "id": "f14d8cf1",
   "metadata": {},
   "source": [
    "## 1. Import libraries and read data"
   ]
  },
  {
   "cell_type": "code",
   "execution_count": 21,
   "id": "7c50fc45",
   "metadata": {},
   "outputs": [],
   "source": [
    "import pandas as pd"
   ]
  },
  {
   "cell_type": "code",
   "execution_count": 22,
   "id": "061e4820",
   "metadata": {},
   "outputs": [],
   "source": [
    "# Đọc dữ liệu\n",
    "train = pd.read_csv(\"house_prices/train.csv\")\n",
    "test = pd.read_csv(\"house_prices/test.csv\")"
   ]
  },
  {
   "cell_type": "markdown",
   "id": "36af356b",
   "metadata": {},
   "source": [
    "## 2. Execute missing data (preprocessing)"
   ]
  },
  {
   "cell_type": "markdown",
   "id": "4588128b",
   "metadata": {},
   "source": [
    "### 2.1. Check missing data "
   ]
  },
  {
   "cell_type": "code",
   "execution_count": 23,
   "id": "0e2cc196",
   "metadata": {},
   "outputs": [
    {
     "name": "stdout",
     "output_type": "stream",
     "text": [
      "Total original missing data in training set: 7829\n",
      "Total original missing data in test set: 7878\n"
     ]
    }
   ],
   "source": [
    "print(f\"Total original missing data in training set: {train.isnull().sum().sum()}\")\n",
    "print(f\"Total original missing data in test set: {test.isnull().sum().sum()}\")"
   ]
  },
  {
   "cell_type": "code",
   "execution_count": 24,
   "id": "416eaff6",
   "metadata": {},
   "outputs": [
    {
     "name": "stdout",
     "output_type": "stream",
     "text": [
      "Id                 0\n",
      "MSSubClass         0\n",
      "MSZoning           0\n",
      "LotFrontage      259\n",
      "LotArea            0\n",
      "                ... \n",
      "MoSold             0\n",
      "YrSold             0\n",
      "SaleType           0\n",
      "SaleCondition      0\n",
      "SalePrice          0\n",
      "Length: 81, dtype: int64\n"
     ]
    }
   ],
   "source": [
    "missing = train.isnull().sum()\n",
    "print(missing)"
   ]
  },
  {
   "cell_type": "code",
   "execution_count": 25,
   "id": "2540e03a",
   "metadata": {},
   "outputs": [
    {
     "name": "stdout",
     "output_type": "stream",
     "text": [
      "Missing data trong training set:\n"
     ]
    },
    {
     "data": {
      "application/vnd.microsoft.datawrangler.viewer.v0+json": {
       "columns": [
        {
         "name": "index",
         "rawType": "object",
         "type": "string"
        },
        {
         "name": "0",
         "rawType": "int64",
         "type": "integer"
        }
       ],
       "ref": "a2681d36-1f2f-4c55-906e-0a0be7d8fa7e",
       "rows": [
        [
         "PoolQC",
         "1453"
        ],
        [
         "MiscFeature",
         "1406"
        ],
        [
         "Alley",
         "1369"
        ],
        [
         "Fence",
         "1179"
        ],
        [
         "MasVnrType",
         "872"
        ],
        [
         "FireplaceQu",
         "690"
        ],
        [
         "LotFrontage",
         "259"
        ],
        [
         "GarageType",
         "81"
        ],
        [
         "GarageYrBlt",
         "81"
        ],
        [
         "GarageFinish",
         "81"
        ],
        [
         "GarageQual",
         "81"
        ],
        [
         "GarageCond",
         "81"
        ],
        [
         "BsmtExposure",
         "38"
        ],
        [
         "BsmtFinType2",
         "38"
        ],
        [
         "BsmtQual",
         "37"
        ],
        [
         "BsmtCond",
         "37"
        ],
        [
         "BsmtFinType1",
         "37"
        ],
        [
         "MasVnrArea",
         "8"
        ],
        [
         "Electrical",
         "1"
        ]
       ],
       "shape": {
        "columns": 1,
        "rows": 19
       }
      },
      "text/plain": [
       "PoolQC          1453\n",
       "MiscFeature     1406\n",
       "Alley           1369\n",
       "Fence           1179\n",
       "MasVnrType       872\n",
       "FireplaceQu      690\n",
       "LotFrontage      259\n",
       "GarageType        81\n",
       "GarageYrBlt       81\n",
       "GarageFinish      81\n",
       "GarageQual        81\n",
       "GarageCond        81\n",
       "BsmtExposure      38\n",
       "BsmtFinType2      38\n",
       "BsmtQual          37\n",
       "BsmtCond          37\n",
       "BsmtFinType1      37\n",
       "MasVnrArea         8\n",
       "Electrical         1\n",
       "dtype: int64"
      ]
     },
     "execution_count": 25,
     "metadata": {},
     "output_type": "execute_result"
    }
   ],
   "source": [
    "print('Missing data trong training set:')\n",
    "missing[missing > 0].sort_values(ascending=False)"
   ]
  },
  {
   "cell_type": "code",
   "execution_count": 26,
   "id": "609f8ac2",
   "metadata": {},
   "outputs": [
    {
     "name": "stdout",
     "output_type": "stream",
     "text": [
      "Missing data trong test set:\n"
     ]
    },
    {
     "data": {
      "application/vnd.microsoft.datawrangler.viewer.v0+json": {
       "columns": [
        {
         "name": "index",
         "rawType": "object",
         "type": "string"
        },
        {
         "name": "0",
         "rawType": "int64",
         "type": "integer"
        }
       ],
       "ref": "f9eec086-ccb3-46d0-b04c-74ecacb75ba6",
       "rows": [
        [
         "PoolQC",
         "1456"
        ],
        [
         "MiscFeature",
         "1408"
        ],
        [
         "Alley",
         "1352"
        ],
        [
         "Fence",
         "1169"
        ],
        [
         "MasVnrType",
         "894"
        ],
        [
         "FireplaceQu",
         "730"
        ],
        [
         "LotFrontage",
         "227"
        ],
        [
         "GarageQual",
         "78"
        ],
        [
         "GarageCond",
         "78"
        ],
        [
         "GarageYrBlt",
         "78"
        ],
        [
         "GarageFinish",
         "78"
        ],
        [
         "GarageType",
         "76"
        ],
        [
         "BsmtCond",
         "45"
        ],
        [
         "BsmtQual",
         "44"
        ],
        [
         "BsmtExposure",
         "44"
        ],
        [
         "BsmtFinType1",
         "42"
        ],
        [
         "BsmtFinType2",
         "42"
        ],
        [
         "MasVnrArea",
         "15"
        ],
        [
         "MSZoning",
         "4"
        ],
        [
         "Functional",
         "2"
        ],
        [
         "BsmtFullBath",
         "2"
        ],
        [
         "Utilities",
         "2"
        ],
        [
         "BsmtHalfBath",
         "2"
        ],
        [
         "Exterior1st",
         "1"
        ],
        [
         "Exterior2nd",
         "1"
        ],
        [
         "TotalBsmtSF",
         "1"
        ],
        [
         "BsmtUnfSF",
         "1"
        ],
        [
         "BsmtFinSF2",
         "1"
        ],
        [
         "BsmtFinSF1",
         "1"
        ],
        [
         "KitchenQual",
         "1"
        ],
        [
         "GarageArea",
         "1"
        ],
        [
         "GarageCars",
         "1"
        ],
        [
         "SaleType",
         "1"
        ]
       ],
       "shape": {
        "columns": 1,
        "rows": 33
       }
      },
      "text/plain": [
       "PoolQC          1456\n",
       "MiscFeature     1408\n",
       "Alley           1352\n",
       "Fence           1169\n",
       "MasVnrType       894\n",
       "FireplaceQu      730\n",
       "LotFrontage      227\n",
       "GarageQual        78\n",
       "GarageCond        78\n",
       "GarageYrBlt       78\n",
       "GarageFinish      78\n",
       "GarageType        76\n",
       "BsmtCond          45\n",
       "BsmtQual          44\n",
       "BsmtExposure      44\n",
       "BsmtFinType1      42\n",
       "BsmtFinType2      42\n",
       "MasVnrArea        15\n",
       "MSZoning           4\n",
       "Functional         2\n",
       "BsmtFullBath       2\n",
       "Utilities          2\n",
       "BsmtHalfBath       2\n",
       "Exterior1st        1\n",
       "Exterior2nd        1\n",
       "TotalBsmtSF        1\n",
       "BsmtUnfSF          1\n",
       "BsmtFinSF2         1\n",
       "BsmtFinSF1         1\n",
       "KitchenQual        1\n",
       "GarageArea         1\n",
       "GarageCars         1\n",
       "SaleType           1\n",
       "dtype: int64"
      ]
     },
     "execution_count": 26,
     "metadata": {},
     "output_type": "execute_result"
    }
   ],
   "source": [
    "print('Missing data trong test set:')\n",
    "missing_test = test.isnull().sum()\n",
    "missing_test[missing_test > 0].sort_values(ascending=False)"
   ]
  },
  {
   "cell_type": "markdown",
   "id": "a897d3ba",
   "metadata": {},
   "source": [
    "### 2.2. Categorize missing data\n",
    "Divide missing data into 4 main categories:\n",
    "- Group 1: Columns where \"NA\" means \"not present\" (i.e., None).\n",
    "- Group 2: Numeric columns where NA also means \"not present\".\n",
    "- Group 3: Columns that require estimation based on other data.\n",
    "- Group 4: Columns with few missing values → fill with the most common value (mode).\n",
    "\n",
    "General principles for filling in missing values:\n",
    "\n",
    "1. For object-type columns (e.g., GarageType, FireplaceQu, BsmtCond):\n",
    "- If missing means the feature doesn't exist (e.g., no basement → missing BsmtCond), then fill with 'None'.\n",
    "- If missing is likely due to data entry error but can be inferred → fill with mode().\n",
    "\n",
    "2. For integer-type variables that represent counts (e.g., BsmtFullBath, GarageCars):\n",
    "- If missing due to the absence of a basement or garage → fill with 0.\n",
    "- If the reason is unclear → inspect manually (e.g., visualize with plots, check if all related basement columns are missing for the same row).\n",
    "\n",
    "3. For float-type variables like area (e.g., LotFrontage, GarageArea, MasVnrArea):\n",
    "- Usually missing due to measurement error or omission.\n",
    "- Fill with median() to avoid the influence of outliers (since median is more robust than mean).\n",
    "\n",
    "4. For Year, Date, or other special types (e.g., GarageYrBlt):\n",
    "- If missing because there's no garage → choose a consistent strategy: fill with 0, or with YearBuilt, or with 'None', depending on the intended analysis.\n",
    "- Use logic and domain knowledge to guide your decision.\n",
    "\n"
   ]
  },
  {
   "cell_type": "markdown",
   "id": "0129174f",
   "metadata": {},
   "source": [
    "#### Group 1: Categorical columns where NA means \"not present\" (e.g., no pool)."
   ]
  },
  {
   "cell_type": "code",
   "execution_count": 27,
   "id": "213b81c6",
   "metadata": {},
   "outputs": [],
   "source": [
    "# Xử lý: điền \"None\"\n",
    "cols_none = [\n",
    "    'PoolQC', 'MiscFeature', 'Alley', 'Fence', 'FireplaceQu', \n",
    "    'GarageType', 'GarageFinish', 'GarageQual', 'GarageCond',\n",
    "    'BsmtExposure', 'BsmtFinType2', 'BsmtQual', 'BsmtCond', 'BsmtFinType1',\n",
    "    'MasVnrType', 'MSZoning', 'Utilities', 'Functional', 'Exterior1st', \n",
    "    'Exterior2nd', 'SaleType', 'KitchenQual', 'Electrical'\n",
    "]\n",
    "\n",
    "for col in cols_none:\n",
    "    train[col] = train[col].fillna(\"None\")\n",
    "    \n",
    "for col in cols_none:\n",
    "    test[col] = test[col].fillna(\"None\")"
   ]
  },
  {
   "cell_type": "markdown",
   "id": "ce6294ef",
   "metadata": {},
   "source": [
    "#### Group 2: Numeric columns where NA means \"not present\""
   ]
  },
  {
   "cell_type": "code",
   "execution_count": 28,
   "id": "0f558f8f",
   "metadata": {},
   "outputs": [],
   "source": [
    "# Xử lý: điền 0\n",
    "cols_fill_zero = ['MasVnrArea', 'GarageYrBlt', 'BsmtFinSF1', 'BsmtFinSF2', 'BsmtFullBath', 'BsmtHalfBath', \n",
    "                       'BsmtUnfSF', 'TotalBsmtSF', 'GarageCars', 'GarageArea']\n",
    "\n",
    "train[cols_fill_zero] = train[cols_fill_zero].fillna(0)\n",
    "test[cols_fill_zero] = test[cols_fill_zero].fillna(0)"
   ]
  },
  {
   "cell_type": "markdown",
   "id": "e5baa700",
   "metadata": {},
   "source": [
    "#### Group 3: Columns that require imputation based on other data"
   ]
  },
  {
   "cell_type": "code",
   "execution_count": 29,
   "id": "091936aa",
   "metadata": {},
   "outputs": [],
   "source": [
    "# LotFrontage – chiều rộng mặt tiền → bạn có thể điền bằng trung bình theo khu phố (Neighborhood)\n",
    "train['LotFrontage'] = train.groupby('Neighborhood')['LotFrontage'].transform(\n",
    "    lambda x: x.fillna(x.median())\n",
    ")\n",
    "# 2 cách của train và test như nhau\n",
    "test[\"LotFrontage\"] = test[\"LotFrontage\"].fillna(test[\"LotFrontage\"].median())"
   ]
  },
  {
   "cell_type": "markdown",
   "id": "f7e1d2a5",
   "metadata": {},
   "source": [
    "#### Group 4: Columns with few missing values → fill with the mode (most frequent value)"
   ]
  },
  {
   "cell_type": "code",
   "execution_count": 30,
   "id": "71856fd9",
   "metadata": {},
   "outputs": [],
   "source": [
    "# .mode() trả về danh sách các giá trị phổ biến nhất. (sắp xếp từ nhiều xuống ít)\n",
    "# .mode()[0] chọn giá trị đầu tiên trong số đó (để dùng cho việc điền missing value).\n",
    "\n",
    "for col in [\"MSZoning\", \"Utilities\", \"Functional\", \"Exterior1st\", \"Exterior2nd\", \n",
    "            \"KitchenQual\", \"SaleType\", \"Electrical\"]:\n",
    "    test[col] = test[col].fillna(test[col].mode()[0])"
   ]
  },
  {
   "cell_type": "markdown",
   "id": "2077c601",
   "metadata": {},
   "source": [
    "### 2.3. Checking for missing data \n",
    "\n",
    "+ All missing data has been properly handled (better than dropping it directly).\n",
    "+ Rerun train.isnull().sum().sum() to confirm that all missing data has been removed."
   ]
  },
  {
   "cell_type": "code",
   "execution_count": 31,
   "id": "85002e8f",
   "metadata": {},
   "outputs": [
    {
     "name": "stdout",
     "output_type": "stream",
     "text": [
      "Total current missing data in training set: 0\n",
      "Total current missing data in test set: 0\n"
     ]
    }
   ],
   "source": [
    "print(f\"Total current missing data in training set: {train.isnull().sum().sum()}\")\n",
    "print(f\"Total current missing data in test set: {test.isnull().sum().sum()}\")"
   ]
  },
  {
   "cell_type": "code",
   "execution_count": 32,
   "id": "95e64739",
   "metadata": {},
   "outputs": [
    {
     "data": {
      "application/vnd.microsoft.datawrangler.viewer.v0+json": {
       "columns": [
        {
         "name": "index",
         "rawType": "object",
         "type": "string"
        },
        {
         "name": "0",
         "rawType": "int64",
         "type": "integer"
        }
       ],
       "ref": "eaf0fb01-2554-49ea-a63a-ccf9df9a1dff",
       "rows": [],
       "shape": {
        "columns": 1,
        "rows": 0
       }
      },
      "text/plain": [
       "Series([], dtype: int64)"
      ]
     },
     "execution_count": 32,
     "metadata": {},
     "output_type": "execute_result"
    }
   ],
   "source": [
    "train.isnull().sum()[train.isnull().sum() > 0]"
   ]
  },
  {
   "cell_type": "code",
   "execution_count": 33,
   "id": "25b36e57",
   "metadata": {},
   "outputs": [
    {
     "data": {
      "application/vnd.microsoft.datawrangler.viewer.v0+json": {
       "columns": [
        {
         "name": "index",
         "rawType": "object",
         "type": "string"
        },
        {
         "name": "0",
         "rawType": "int64",
         "type": "integer"
        }
       ],
       "ref": "e2903e45-08c0-43e9-b581-d2e9943444e7",
       "rows": [],
       "shape": {
        "columns": 1,
        "rows": 0
       }
      },
      "text/plain": [
       "Series([], dtype: int64)"
      ]
     },
     "execution_count": 33,
     "metadata": {},
     "output_type": "execute_result"
    }
   ],
   "source": [
    "test.isnull().sum()[test.isnull().sum() > 0]"
   ]
  },
  {
   "cell_type": "markdown",
   "id": "7fe9405c",
   "metadata": {},
   "source": [
    "## 3. Convert Categorical (Text) Variable to Numeric Variable (Encoding)"
   ]
  },
  {
   "cell_type": "markdown",
   "id": "7066cb4d",
   "metadata": {},
   "source": [
    "Some machine learning algorithms like Linear Regression cannot work directly with text (categorical) data. Therefore:\n",
    "\n",
    "+ Label Encoding: used when the variable is ordinal (has a meaningful order)\n",
    "\n",
    "+ One-Hot Encoding: used when the variable is nominal (no inherent order)"
   ]
  },
  {
   "cell_type": "markdown",
   "id": "9f734479",
   "metadata": {},
   "source": [
    "Use pd.get_dummies() to perform One-Hot Encoding for both train and test sets:\n",
    "\n",
    "Using pd.get_dummies() will:\n",
    "\n",
    "1. dentify all columns in the DataFrame that contain data of type object or category (i.e., text).\n",
    "2. For each of those columns, create a new column for every unique value in the original column.\n",
    "3. In these new columns, the values are:\n",
    "+ 1 if the row has the corresponding value\n",
    "+ 0 if it does not"
   ]
  },
  {
   "cell_type": "code",
   "execution_count": 34,
   "id": "7f7ddb53",
   "metadata": {},
   "outputs": [],
   "source": [
    "# Dùng pd.get_dummies() để One-Hot Encoding cho cả train và test\n",
    "train = pd.get_dummies(train)\n",
    "test = pd.get_dummies(test)"
   ]
  },
  {
   "cell_type": "code",
   "execution_count": 35,
   "id": "13bf5683",
   "metadata": {},
   "outputs": [
    {
     "data": {
      "application/vnd.microsoft.datawrangler.viewer.v0+json": {
       "columns": [
        {
         "name": "index",
         "rawType": "int64",
         "type": "integer"
        },
        {
         "name": "Id",
         "rawType": "int64",
         "type": "integer"
        },
        {
         "name": "MSSubClass",
         "rawType": "int64",
         "type": "integer"
        },
        {
         "name": "LotFrontage",
         "rawType": "float64",
         "type": "float"
        },
        {
         "name": "LotArea",
         "rawType": "int64",
         "type": "integer"
        },
        {
         "name": "OverallQual",
         "rawType": "int64",
         "type": "integer"
        },
        {
         "name": "OverallCond",
         "rawType": "int64",
         "type": "integer"
        },
        {
         "name": "YearBuilt",
         "rawType": "int64",
         "type": "integer"
        },
        {
         "name": "YearRemodAdd",
         "rawType": "int64",
         "type": "integer"
        },
        {
         "name": "MasVnrArea",
         "rawType": "float64",
         "type": "float"
        },
        {
         "name": "BsmtFinSF1",
         "rawType": "int64",
         "type": "integer"
        },
        {
         "name": "BsmtFinSF2",
         "rawType": "int64",
         "type": "integer"
        },
        {
         "name": "BsmtUnfSF",
         "rawType": "int64",
         "type": "integer"
        },
        {
         "name": "TotalBsmtSF",
         "rawType": "int64",
         "type": "integer"
        },
        {
         "name": "1stFlrSF",
         "rawType": "int64",
         "type": "integer"
        },
        {
         "name": "2ndFlrSF",
         "rawType": "int64",
         "type": "integer"
        },
        {
         "name": "LowQualFinSF",
         "rawType": "int64",
         "type": "integer"
        },
        {
         "name": "GrLivArea",
         "rawType": "int64",
         "type": "integer"
        },
        {
         "name": "BsmtFullBath",
         "rawType": "int64",
         "type": "integer"
        },
        {
         "name": "BsmtHalfBath",
         "rawType": "int64",
         "type": "integer"
        },
        {
         "name": "FullBath",
         "rawType": "int64",
         "type": "integer"
        },
        {
         "name": "HalfBath",
         "rawType": "int64",
         "type": "integer"
        },
        {
         "name": "BedroomAbvGr",
         "rawType": "int64",
         "type": "integer"
        },
        {
         "name": "KitchenAbvGr",
         "rawType": "int64",
         "type": "integer"
        },
        {
         "name": "TotRmsAbvGrd",
         "rawType": "int64",
         "type": "integer"
        },
        {
         "name": "Fireplaces",
         "rawType": "int64",
         "type": "integer"
        },
        {
         "name": "GarageYrBlt",
         "rawType": "float64",
         "type": "float"
        },
        {
         "name": "GarageCars",
         "rawType": "int64",
         "type": "integer"
        },
        {
         "name": "GarageArea",
         "rawType": "int64",
         "type": "integer"
        },
        {
         "name": "WoodDeckSF",
         "rawType": "int64",
         "type": "integer"
        },
        {
         "name": "OpenPorchSF",
         "rawType": "int64",
         "type": "integer"
        },
        {
         "name": "EnclosedPorch",
         "rawType": "int64",
         "type": "integer"
        },
        {
         "name": "3SsnPorch",
         "rawType": "int64",
         "type": "integer"
        },
        {
         "name": "ScreenPorch",
         "rawType": "int64",
         "type": "integer"
        },
        {
         "name": "PoolArea",
         "rawType": "int64",
         "type": "integer"
        },
        {
         "name": "MiscVal",
         "rawType": "int64",
         "type": "integer"
        },
        {
         "name": "MoSold",
         "rawType": "int64",
         "type": "integer"
        },
        {
         "name": "YrSold",
         "rawType": "int64",
         "type": "integer"
        },
        {
         "name": "SalePrice",
         "rawType": "int64",
         "type": "integer"
        },
        {
         "name": "MSZoning_C (all)",
         "rawType": "bool",
         "type": "boolean"
        },
        {
         "name": "MSZoning_FV",
         "rawType": "bool",
         "type": "boolean"
        },
        {
         "name": "MSZoning_RH",
         "rawType": "bool",
         "type": "boolean"
        },
        {
         "name": "MSZoning_RL",
         "rawType": "bool",
         "type": "boolean"
        },
        {
         "name": "MSZoning_RM",
         "rawType": "bool",
         "type": "boolean"
        },
        {
         "name": "Street_Grvl",
         "rawType": "bool",
         "type": "boolean"
        },
        {
         "name": "Street_Pave",
         "rawType": "bool",
         "type": "boolean"
        },
        {
         "name": "Alley_Grvl",
         "rawType": "bool",
         "type": "boolean"
        },
        {
         "name": "Alley_None",
         "rawType": "bool",
         "type": "boolean"
        },
        {
         "name": "Alley_Pave",
         "rawType": "bool",
         "type": "boolean"
        },
        {
         "name": "LotShape_IR1",
         "rawType": "bool",
         "type": "boolean"
        },
        {
         "name": "LotShape_IR2",
         "rawType": "bool",
         "type": "boolean"
        },
        {
         "name": "LotShape_IR3",
         "rawType": "bool",
         "type": "boolean"
        },
        {
         "name": "LotShape_Reg",
         "rawType": "bool",
         "type": "boolean"
        },
        {
         "name": "LandContour_Bnk",
         "rawType": "bool",
         "type": "boolean"
        },
        {
         "name": "LandContour_HLS",
         "rawType": "bool",
         "type": "boolean"
        },
        {
         "name": "LandContour_Low",
         "rawType": "bool",
         "type": "boolean"
        },
        {
         "name": "LandContour_Lvl",
         "rawType": "bool",
         "type": "boolean"
        },
        {
         "name": "Utilities_AllPub",
         "rawType": "bool",
         "type": "boolean"
        },
        {
         "name": "Utilities_NoSeWa",
         "rawType": "bool",
         "type": "boolean"
        },
        {
         "name": "LotConfig_Corner",
         "rawType": "bool",
         "type": "boolean"
        },
        {
         "name": "LotConfig_CulDSac",
         "rawType": "bool",
         "type": "boolean"
        },
        {
         "name": "LotConfig_FR2",
         "rawType": "bool",
         "type": "boolean"
        },
        {
         "name": "LotConfig_FR3",
         "rawType": "bool",
         "type": "boolean"
        },
        {
         "name": "LotConfig_Inside",
         "rawType": "bool",
         "type": "boolean"
        },
        {
         "name": "LandSlope_Gtl",
         "rawType": "bool",
         "type": "boolean"
        },
        {
         "name": "LandSlope_Mod",
         "rawType": "bool",
         "type": "boolean"
        },
        {
         "name": "LandSlope_Sev",
         "rawType": "bool",
         "type": "boolean"
        },
        {
         "name": "Neighborhood_Blmngtn",
         "rawType": "bool",
         "type": "boolean"
        },
        {
         "name": "Neighborhood_Blueste",
         "rawType": "bool",
         "type": "boolean"
        },
        {
         "name": "Neighborhood_BrDale",
         "rawType": "bool",
         "type": "boolean"
        },
        {
         "name": "Neighborhood_BrkSide",
         "rawType": "bool",
         "type": "boolean"
        },
        {
         "name": "Neighborhood_ClearCr",
         "rawType": "bool",
         "type": "boolean"
        },
        {
         "name": "Neighborhood_CollgCr",
         "rawType": "bool",
         "type": "boolean"
        },
        {
         "name": "Neighborhood_Crawfor",
         "rawType": "bool",
         "type": "boolean"
        },
        {
         "name": "Neighborhood_Edwards",
         "rawType": "bool",
         "type": "boolean"
        },
        {
         "name": "Neighborhood_Gilbert",
         "rawType": "bool",
         "type": "boolean"
        },
        {
         "name": "Neighborhood_IDOTRR",
         "rawType": "bool",
         "type": "boolean"
        },
        {
         "name": "Neighborhood_MeadowV",
         "rawType": "bool",
         "type": "boolean"
        },
        {
         "name": "Neighborhood_Mitchel",
         "rawType": "bool",
         "type": "boolean"
        },
        {
         "name": "Neighborhood_NAmes",
         "rawType": "bool",
         "type": "boolean"
        },
        {
         "name": "Neighborhood_NPkVill",
         "rawType": "bool",
         "type": "boolean"
        },
        {
         "name": "Neighborhood_NWAmes",
         "rawType": "bool",
         "type": "boolean"
        },
        {
         "name": "Neighborhood_NoRidge",
         "rawType": "bool",
         "type": "boolean"
        },
        {
         "name": "Neighborhood_NridgHt",
         "rawType": "bool",
         "type": "boolean"
        },
        {
         "name": "Neighborhood_OldTown",
         "rawType": "bool",
         "type": "boolean"
        },
        {
         "name": "Neighborhood_SWISU",
         "rawType": "bool",
         "type": "boolean"
        },
        {
         "name": "Neighborhood_Sawyer",
         "rawType": "bool",
         "type": "boolean"
        },
        {
         "name": "Neighborhood_SawyerW",
         "rawType": "bool",
         "type": "boolean"
        },
        {
         "name": "Neighborhood_Somerst",
         "rawType": "bool",
         "type": "boolean"
        },
        {
         "name": "Neighborhood_StoneBr",
         "rawType": "bool",
         "type": "boolean"
        },
        {
         "name": "Neighborhood_Timber",
         "rawType": "bool",
         "type": "boolean"
        },
        {
         "name": "Neighborhood_Veenker",
         "rawType": "bool",
         "type": "boolean"
        },
        {
         "name": "Condition1_Artery",
         "rawType": "bool",
         "type": "boolean"
        },
        {
         "name": "Condition1_Feedr",
         "rawType": "bool",
         "type": "boolean"
        },
        {
         "name": "Condition1_Norm",
         "rawType": "bool",
         "type": "boolean"
        },
        {
         "name": "Condition1_PosA",
         "rawType": "bool",
         "type": "boolean"
        },
        {
         "name": "Condition1_PosN",
         "rawType": "bool",
         "type": "boolean"
        },
        {
         "name": "Condition1_RRAe",
         "rawType": "bool",
         "type": "boolean"
        },
        {
         "name": "Condition1_RRAn",
         "rawType": "bool",
         "type": "boolean"
        },
        {
         "name": "Condition1_RRNe",
         "rawType": "bool",
         "type": "boolean"
        },
        {
         "name": "Condition1_RRNn",
         "rawType": "bool",
         "type": "boolean"
        },
        {
         "name": "Condition2_Artery",
         "rawType": "bool",
         "type": "boolean"
        },
        {
         "name": "Condition2_Feedr",
         "rawType": "bool",
         "type": "boolean"
        },
        {
         "name": "Condition2_Norm",
         "rawType": "bool",
         "type": "boolean"
        },
        {
         "name": "Condition2_PosA",
         "rawType": "bool",
         "type": "boolean"
        },
        {
         "name": "Condition2_PosN",
         "rawType": "bool",
         "type": "boolean"
        },
        {
         "name": "Condition2_RRAe",
         "rawType": "bool",
         "type": "boolean"
        },
        {
         "name": "Condition2_RRAn",
         "rawType": "bool",
         "type": "boolean"
        },
        {
         "name": "Condition2_RRNn",
         "rawType": "bool",
         "type": "boolean"
        },
        {
         "name": "BldgType_1Fam",
         "rawType": "bool",
         "type": "boolean"
        },
        {
         "name": "BldgType_2fmCon",
         "rawType": "bool",
         "type": "boolean"
        },
        {
         "name": "BldgType_Duplex",
         "rawType": "bool",
         "type": "boolean"
        },
        {
         "name": "BldgType_Twnhs",
         "rawType": "bool",
         "type": "boolean"
        },
        {
         "name": "BldgType_TwnhsE",
         "rawType": "bool",
         "type": "boolean"
        },
        {
         "name": "HouseStyle_1.5Fin",
         "rawType": "bool",
         "type": "boolean"
        },
        {
         "name": "HouseStyle_1.5Unf",
         "rawType": "bool",
         "type": "boolean"
        },
        {
         "name": "HouseStyle_1Story",
         "rawType": "bool",
         "type": "boolean"
        },
        {
         "name": "HouseStyle_2.5Fin",
         "rawType": "bool",
         "type": "boolean"
        },
        {
         "name": "HouseStyle_2.5Unf",
         "rawType": "bool",
         "type": "boolean"
        },
        {
         "name": "HouseStyle_2Story",
         "rawType": "bool",
         "type": "boolean"
        },
        {
         "name": "HouseStyle_SFoyer",
         "rawType": "bool",
         "type": "boolean"
        },
        {
         "name": "HouseStyle_SLvl",
         "rawType": "bool",
         "type": "boolean"
        },
        {
         "name": "RoofStyle_Flat",
         "rawType": "bool",
         "type": "boolean"
        },
        {
         "name": "RoofStyle_Gable",
         "rawType": "bool",
         "type": "boolean"
        },
        {
         "name": "RoofStyle_Gambrel",
         "rawType": "bool",
         "type": "boolean"
        },
        {
         "name": "RoofStyle_Hip",
         "rawType": "bool",
         "type": "boolean"
        },
        {
         "name": "RoofStyle_Mansard",
         "rawType": "bool",
         "type": "boolean"
        },
        {
         "name": "RoofStyle_Shed",
         "rawType": "bool",
         "type": "boolean"
        },
        {
         "name": "RoofMatl_ClyTile",
         "rawType": "bool",
         "type": "boolean"
        },
        {
         "name": "RoofMatl_CompShg",
         "rawType": "bool",
         "type": "boolean"
        },
        {
         "name": "RoofMatl_Membran",
         "rawType": "bool",
         "type": "boolean"
        },
        {
         "name": "RoofMatl_Metal",
         "rawType": "bool",
         "type": "boolean"
        },
        {
         "name": "RoofMatl_Roll",
         "rawType": "bool",
         "type": "boolean"
        },
        {
         "name": "RoofMatl_Tar&Grv",
         "rawType": "bool",
         "type": "boolean"
        },
        {
         "name": "RoofMatl_WdShake",
         "rawType": "bool",
         "type": "boolean"
        },
        {
         "name": "RoofMatl_WdShngl",
         "rawType": "bool",
         "type": "boolean"
        },
        {
         "name": "Exterior1st_AsbShng",
         "rawType": "bool",
         "type": "boolean"
        },
        {
         "name": "Exterior1st_AsphShn",
         "rawType": "bool",
         "type": "boolean"
        },
        {
         "name": "Exterior1st_BrkComm",
         "rawType": "bool",
         "type": "boolean"
        },
        {
         "name": "Exterior1st_BrkFace",
         "rawType": "bool",
         "type": "boolean"
        },
        {
         "name": "Exterior1st_CBlock",
         "rawType": "bool",
         "type": "boolean"
        },
        {
         "name": "Exterior1st_CemntBd",
         "rawType": "bool",
         "type": "boolean"
        },
        {
         "name": "Exterior1st_HdBoard",
         "rawType": "bool",
         "type": "boolean"
        },
        {
         "name": "Exterior1st_ImStucc",
         "rawType": "bool",
         "type": "boolean"
        },
        {
         "name": "Exterior1st_MetalSd",
         "rawType": "bool",
         "type": "boolean"
        },
        {
         "name": "Exterior1st_Plywood",
         "rawType": "bool",
         "type": "boolean"
        },
        {
         "name": "Exterior1st_Stone",
         "rawType": "bool",
         "type": "boolean"
        },
        {
         "name": "Exterior1st_Stucco",
         "rawType": "bool",
         "type": "boolean"
        },
        {
         "name": "Exterior1st_VinylSd",
         "rawType": "bool",
         "type": "boolean"
        },
        {
         "name": "Exterior1st_Wd Sdng",
         "rawType": "bool",
         "type": "boolean"
        },
        {
         "name": "Exterior1st_WdShing",
         "rawType": "bool",
         "type": "boolean"
        },
        {
         "name": "Exterior2nd_AsbShng",
         "rawType": "bool",
         "type": "boolean"
        },
        {
         "name": "Exterior2nd_AsphShn",
         "rawType": "bool",
         "type": "boolean"
        },
        {
         "name": "Exterior2nd_Brk Cmn",
         "rawType": "bool",
         "type": "boolean"
        },
        {
         "name": "Exterior2nd_BrkFace",
         "rawType": "bool",
         "type": "boolean"
        },
        {
         "name": "Exterior2nd_CBlock",
         "rawType": "bool",
         "type": "boolean"
        },
        {
         "name": "Exterior2nd_CmentBd",
         "rawType": "bool",
         "type": "boolean"
        },
        {
         "name": "Exterior2nd_HdBoard",
         "rawType": "bool",
         "type": "boolean"
        },
        {
         "name": "Exterior2nd_ImStucc",
         "rawType": "bool",
         "type": "boolean"
        },
        {
         "name": "Exterior2nd_MetalSd",
         "rawType": "bool",
         "type": "boolean"
        },
        {
         "name": "Exterior2nd_Other",
         "rawType": "bool",
         "type": "boolean"
        },
        {
         "name": "Exterior2nd_Plywood",
         "rawType": "bool",
         "type": "boolean"
        },
        {
         "name": "Exterior2nd_Stone",
         "rawType": "bool",
         "type": "boolean"
        },
        {
         "name": "Exterior2nd_Stucco",
         "rawType": "bool",
         "type": "boolean"
        },
        {
         "name": "Exterior2nd_VinylSd",
         "rawType": "bool",
         "type": "boolean"
        },
        {
         "name": "Exterior2nd_Wd Sdng",
         "rawType": "bool",
         "type": "boolean"
        },
        {
         "name": "Exterior2nd_Wd Shng",
         "rawType": "bool",
         "type": "boolean"
        },
        {
         "name": "MasVnrType_BrkCmn",
         "rawType": "bool",
         "type": "boolean"
        },
        {
         "name": "MasVnrType_BrkFace",
         "rawType": "bool",
         "type": "boolean"
        },
        {
         "name": "MasVnrType_None",
         "rawType": "bool",
         "type": "boolean"
        },
        {
         "name": "MasVnrType_Stone",
         "rawType": "bool",
         "type": "boolean"
        },
        {
         "name": "ExterQual_Ex",
         "rawType": "bool",
         "type": "boolean"
        },
        {
         "name": "ExterQual_Fa",
         "rawType": "bool",
         "type": "boolean"
        },
        {
         "name": "ExterQual_Gd",
         "rawType": "bool",
         "type": "boolean"
        },
        {
         "name": "ExterQual_TA",
         "rawType": "bool",
         "type": "boolean"
        },
        {
         "name": "ExterCond_Ex",
         "rawType": "bool",
         "type": "boolean"
        },
        {
         "name": "ExterCond_Fa",
         "rawType": "bool",
         "type": "boolean"
        },
        {
         "name": "ExterCond_Gd",
         "rawType": "bool",
         "type": "boolean"
        },
        {
         "name": "ExterCond_Po",
         "rawType": "bool",
         "type": "boolean"
        },
        {
         "name": "ExterCond_TA",
         "rawType": "bool",
         "type": "boolean"
        },
        {
         "name": "Foundation_BrkTil",
         "rawType": "bool",
         "type": "boolean"
        },
        {
         "name": "Foundation_CBlock",
         "rawType": "bool",
         "type": "boolean"
        },
        {
         "name": "Foundation_PConc",
         "rawType": "bool",
         "type": "boolean"
        },
        {
         "name": "Foundation_Slab",
         "rawType": "bool",
         "type": "boolean"
        },
        {
         "name": "Foundation_Stone",
         "rawType": "bool",
         "type": "boolean"
        },
        {
         "name": "Foundation_Wood",
         "rawType": "bool",
         "type": "boolean"
        },
        {
         "name": "BsmtQual_Ex",
         "rawType": "bool",
         "type": "boolean"
        },
        {
         "name": "BsmtQual_Fa",
         "rawType": "bool",
         "type": "boolean"
        },
        {
         "name": "BsmtQual_Gd",
         "rawType": "bool",
         "type": "boolean"
        },
        {
         "name": "BsmtQual_None",
         "rawType": "bool",
         "type": "boolean"
        },
        {
         "name": "BsmtQual_TA",
         "rawType": "bool",
         "type": "boolean"
        },
        {
         "name": "BsmtCond_Fa",
         "rawType": "bool",
         "type": "boolean"
        },
        {
         "name": "BsmtCond_Gd",
         "rawType": "bool",
         "type": "boolean"
        },
        {
         "name": "BsmtCond_None",
         "rawType": "bool",
         "type": "boolean"
        },
        {
         "name": "BsmtCond_Po",
         "rawType": "bool",
         "type": "boolean"
        },
        {
         "name": "BsmtCond_TA",
         "rawType": "bool",
         "type": "boolean"
        },
        {
         "name": "BsmtExposure_Av",
         "rawType": "bool",
         "type": "boolean"
        },
        {
         "name": "BsmtExposure_Gd",
         "rawType": "bool",
         "type": "boolean"
        },
        {
         "name": "BsmtExposure_Mn",
         "rawType": "bool",
         "type": "boolean"
        },
        {
         "name": "BsmtExposure_No",
         "rawType": "bool",
         "type": "boolean"
        },
        {
         "name": "BsmtExposure_None",
         "rawType": "bool",
         "type": "boolean"
        },
        {
         "name": "BsmtFinType1_ALQ",
         "rawType": "bool",
         "type": "boolean"
        },
        {
         "name": "BsmtFinType1_BLQ",
         "rawType": "bool",
         "type": "boolean"
        },
        {
         "name": "BsmtFinType1_GLQ",
         "rawType": "bool",
         "type": "boolean"
        },
        {
         "name": "BsmtFinType1_LwQ",
         "rawType": "bool",
         "type": "boolean"
        },
        {
         "name": "BsmtFinType1_None",
         "rawType": "bool",
         "type": "boolean"
        },
        {
         "name": "BsmtFinType1_Rec",
         "rawType": "bool",
         "type": "boolean"
        },
        {
         "name": "BsmtFinType1_Unf",
         "rawType": "bool",
         "type": "boolean"
        },
        {
         "name": "BsmtFinType2_ALQ",
         "rawType": "bool",
         "type": "boolean"
        },
        {
         "name": "BsmtFinType2_BLQ",
         "rawType": "bool",
         "type": "boolean"
        },
        {
         "name": "BsmtFinType2_GLQ",
         "rawType": "bool",
         "type": "boolean"
        },
        {
         "name": "BsmtFinType2_LwQ",
         "rawType": "bool",
         "type": "boolean"
        },
        {
         "name": "BsmtFinType2_None",
         "rawType": "bool",
         "type": "boolean"
        },
        {
         "name": "BsmtFinType2_Rec",
         "rawType": "bool",
         "type": "boolean"
        },
        {
         "name": "BsmtFinType2_Unf",
         "rawType": "bool",
         "type": "boolean"
        },
        {
         "name": "Heating_Floor",
         "rawType": "bool",
         "type": "boolean"
        },
        {
         "name": "Heating_GasA",
         "rawType": "bool",
         "type": "boolean"
        },
        {
         "name": "Heating_GasW",
         "rawType": "bool",
         "type": "boolean"
        },
        {
         "name": "Heating_Grav",
         "rawType": "bool",
         "type": "boolean"
        },
        {
         "name": "Heating_OthW",
         "rawType": "bool",
         "type": "boolean"
        },
        {
         "name": "Heating_Wall",
         "rawType": "bool",
         "type": "boolean"
        },
        {
         "name": "HeatingQC_Ex",
         "rawType": "bool",
         "type": "boolean"
        },
        {
         "name": "HeatingQC_Fa",
         "rawType": "bool",
         "type": "boolean"
        },
        {
         "name": "HeatingQC_Gd",
         "rawType": "bool",
         "type": "boolean"
        },
        {
         "name": "HeatingQC_Po",
         "rawType": "bool",
         "type": "boolean"
        },
        {
         "name": "HeatingQC_TA",
         "rawType": "bool",
         "type": "boolean"
        },
        {
         "name": "CentralAir_N",
         "rawType": "bool",
         "type": "boolean"
        },
        {
         "name": "CentralAir_Y",
         "rawType": "bool",
         "type": "boolean"
        },
        {
         "name": "Electrical_FuseA",
         "rawType": "bool",
         "type": "boolean"
        },
        {
         "name": "Electrical_FuseF",
         "rawType": "bool",
         "type": "boolean"
        },
        {
         "name": "Electrical_FuseP",
         "rawType": "bool",
         "type": "boolean"
        },
        {
         "name": "Electrical_Mix",
         "rawType": "bool",
         "type": "boolean"
        },
        {
         "name": "Electrical_None",
         "rawType": "bool",
         "type": "boolean"
        },
        {
         "name": "Electrical_SBrkr",
         "rawType": "bool",
         "type": "boolean"
        },
        {
         "name": "KitchenQual_Ex",
         "rawType": "bool",
         "type": "boolean"
        },
        {
         "name": "KitchenQual_Fa",
         "rawType": "bool",
         "type": "boolean"
        },
        {
         "name": "KitchenQual_Gd",
         "rawType": "bool",
         "type": "boolean"
        },
        {
         "name": "KitchenQual_TA",
         "rawType": "bool",
         "type": "boolean"
        },
        {
         "name": "Functional_Maj1",
         "rawType": "bool",
         "type": "boolean"
        },
        {
         "name": "Functional_Maj2",
         "rawType": "bool",
         "type": "boolean"
        },
        {
         "name": "Functional_Min1",
         "rawType": "bool",
         "type": "boolean"
        },
        {
         "name": "Functional_Min2",
         "rawType": "bool",
         "type": "boolean"
        },
        {
         "name": "Functional_Mod",
         "rawType": "bool",
         "type": "boolean"
        },
        {
         "name": "Functional_Sev",
         "rawType": "bool",
         "type": "boolean"
        },
        {
         "name": "Functional_Typ",
         "rawType": "bool",
         "type": "boolean"
        },
        {
         "name": "FireplaceQu_Ex",
         "rawType": "bool",
         "type": "boolean"
        },
        {
         "name": "FireplaceQu_Fa",
         "rawType": "bool",
         "type": "boolean"
        },
        {
         "name": "FireplaceQu_Gd",
         "rawType": "bool",
         "type": "boolean"
        },
        {
         "name": "FireplaceQu_None",
         "rawType": "bool",
         "type": "boolean"
        },
        {
         "name": "FireplaceQu_Po",
         "rawType": "bool",
         "type": "boolean"
        },
        {
         "name": "FireplaceQu_TA",
         "rawType": "bool",
         "type": "boolean"
        },
        {
         "name": "GarageType_2Types",
         "rawType": "bool",
         "type": "boolean"
        },
        {
         "name": "GarageType_Attchd",
         "rawType": "bool",
         "type": "boolean"
        },
        {
         "name": "GarageType_Basment",
         "rawType": "bool",
         "type": "boolean"
        },
        {
         "name": "GarageType_BuiltIn",
         "rawType": "bool",
         "type": "boolean"
        },
        {
         "name": "GarageType_CarPort",
         "rawType": "bool",
         "type": "boolean"
        },
        {
         "name": "GarageType_Detchd",
         "rawType": "bool",
         "type": "boolean"
        },
        {
         "name": "GarageType_None",
         "rawType": "bool",
         "type": "boolean"
        },
        {
         "name": "GarageFinish_Fin",
         "rawType": "bool",
         "type": "boolean"
        },
        {
         "name": "GarageFinish_None",
         "rawType": "bool",
         "type": "boolean"
        },
        {
         "name": "GarageFinish_RFn",
         "rawType": "bool",
         "type": "boolean"
        },
        {
         "name": "GarageFinish_Unf",
         "rawType": "bool",
         "type": "boolean"
        },
        {
         "name": "GarageQual_Ex",
         "rawType": "bool",
         "type": "boolean"
        },
        {
         "name": "GarageQual_Fa",
         "rawType": "bool",
         "type": "boolean"
        },
        {
         "name": "GarageQual_Gd",
         "rawType": "bool",
         "type": "boolean"
        },
        {
         "name": "GarageQual_None",
         "rawType": "bool",
         "type": "boolean"
        },
        {
         "name": "GarageQual_Po",
         "rawType": "bool",
         "type": "boolean"
        },
        {
         "name": "GarageQual_TA",
         "rawType": "bool",
         "type": "boolean"
        },
        {
         "name": "GarageCond_Ex",
         "rawType": "bool",
         "type": "boolean"
        },
        {
         "name": "GarageCond_Fa",
         "rawType": "bool",
         "type": "boolean"
        },
        {
         "name": "GarageCond_Gd",
         "rawType": "bool",
         "type": "boolean"
        },
        {
         "name": "GarageCond_None",
         "rawType": "bool",
         "type": "boolean"
        },
        {
         "name": "GarageCond_Po",
         "rawType": "bool",
         "type": "boolean"
        },
        {
         "name": "GarageCond_TA",
         "rawType": "bool",
         "type": "boolean"
        },
        {
         "name": "PavedDrive_N",
         "rawType": "bool",
         "type": "boolean"
        },
        {
         "name": "PavedDrive_P",
         "rawType": "bool",
         "type": "boolean"
        },
        {
         "name": "PavedDrive_Y",
         "rawType": "bool",
         "type": "boolean"
        },
        {
         "name": "PoolQC_Ex",
         "rawType": "bool",
         "type": "boolean"
        },
        {
         "name": "PoolQC_Fa",
         "rawType": "bool",
         "type": "boolean"
        },
        {
         "name": "PoolQC_Gd",
         "rawType": "bool",
         "type": "boolean"
        },
        {
         "name": "PoolQC_None",
         "rawType": "bool",
         "type": "boolean"
        },
        {
         "name": "Fence_GdPrv",
         "rawType": "bool",
         "type": "boolean"
        },
        {
         "name": "Fence_GdWo",
         "rawType": "bool",
         "type": "boolean"
        },
        {
         "name": "Fence_MnPrv",
         "rawType": "bool",
         "type": "boolean"
        },
        {
         "name": "Fence_MnWw",
         "rawType": "bool",
         "type": "boolean"
        },
        {
         "name": "Fence_None",
         "rawType": "bool",
         "type": "boolean"
        },
        {
         "name": "MiscFeature_Gar2",
         "rawType": "bool",
         "type": "boolean"
        },
        {
         "name": "MiscFeature_None",
         "rawType": "bool",
         "type": "boolean"
        },
        {
         "name": "MiscFeature_Othr",
         "rawType": "bool",
         "type": "boolean"
        },
        {
         "name": "MiscFeature_Shed",
         "rawType": "bool",
         "type": "boolean"
        },
        {
         "name": "MiscFeature_TenC",
         "rawType": "bool",
         "type": "boolean"
        },
        {
         "name": "SaleType_COD",
         "rawType": "bool",
         "type": "boolean"
        },
        {
         "name": "SaleType_CWD",
         "rawType": "bool",
         "type": "boolean"
        },
        {
         "name": "SaleType_Con",
         "rawType": "bool",
         "type": "boolean"
        },
        {
         "name": "SaleType_ConLD",
         "rawType": "bool",
         "type": "boolean"
        },
        {
         "name": "SaleType_ConLI",
         "rawType": "bool",
         "type": "boolean"
        },
        {
         "name": "SaleType_ConLw",
         "rawType": "bool",
         "type": "boolean"
        },
        {
         "name": "SaleType_New",
         "rawType": "bool",
         "type": "boolean"
        },
        {
         "name": "SaleType_Oth",
         "rawType": "bool",
         "type": "boolean"
        },
        {
         "name": "SaleType_WD",
         "rawType": "bool",
         "type": "boolean"
        },
        {
         "name": "SaleCondition_Abnorml",
         "rawType": "bool",
         "type": "boolean"
        },
        {
         "name": "SaleCondition_AdjLand",
         "rawType": "bool",
         "type": "boolean"
        },
        {
         "name": "SaleCondition_Alloca",
         "rawType": "bool",
         "type": "boolean"
        },
        {
         "name": "SaleCondition_Family",
         "rawType": "bool",
         "type": "boolean"
        },
        {
         "name": "SaleCondition_Normal",
         "rawType": "bool",
         "type": "boolean"
        },
        {
         "name": "SaleCondition_Partial",
         "rawType": "bool",
         "type": "boolean"
        }
       ],
       "ref": "6cb236bf-8c15-4bed-9411-2ec36dcbf3bb",
       "rows": [
        [
         "0",
         "1",
         "60",
         "65.0",
         "8450",
         "7",
         "5",
         "2003",
         "2003",
         "196.0",
         "706",
         "0",
         "150",
         "856",
         "856",
         "854",
         "0",
         "1710",
         "1",
         "0",
         "2",
         "1",
         "3",
         "1",
         "8",
         "0",
         "2003.0",
         "2",
         "548",
         "0",
         "61",
         "0",
         "0",
         "0",
         "0",
         "0",
         "2",
         "2008",
         "208500",
         "False",
         "False",
         "False",
         "True",
         "False",
         "False",
         "True",
         "False",
         "True",
         "False",
         "False",
         "False",
         "False",
         "True",
         "False",
         "False",
         "False",
         "True",
         "True",
         "False",
         "False",
         "False",
         "False",
         "False",
         "True",
         "True",
         "False",
         "False",
         "False",
         "False",
         "False",
         "False",
         "False",
         "True",
         "False",
         "False",
         "False",
         "False",
         "False",
         "False",
         "False",
         "False",
         "False",
         "False",
         "False",
         "False",
         "False",
         "False",
         "False",
         "False",
         "False",
         "False",
         "False",
         "False",
         "False",
         "True",
         "False",
         "False",
         "False",
         "False",
         "False",
         "False",
         "False",
         "False",
         "True",
         "False",
         "False",
         "False",
         "False",
         "False",
         "True",
         "False",
         "False",
         "False",
         "False",
         "False",
         "False",
         "False",
         "False",
         "False",
         "True",
         "False",
         "False",
         "False",
         "True",
         "False",
         "False",
         "False",
         "False",
         "False",
         "True",
         "False",
         "False",
         "False",
         "False",
         "False",
         "False",
         "False",
         "False",
         "False",
         "False",
         "False",
         "False",
         "False",
         "False",
         "False",
         "False",
         "False",
         "False",
         "True",
         "False",
         "False",
         "False",
         "False",
         "False",
         "False",
         "False",
         "False",
         "False",
         "False",
         "False",
         "False",
         "False",
         "False",
         "False",
         "True",
         "False",
         "False",
         "False",
         "True",
         "False",
         "False",
         "False",
         "False",
         "True",
         "False",
         "False",
         "False",
         "False",
         "False",
         "True",
         "False",
         "False",
         "True",
         "False",
         "False",
         "False",
         "False",
         "False",
         "True",
         "False",
         "False",
         "False",
         "False",
         "False",
         "False",
         "True",
         "False",
         "False",
         "False",
         "True",
         "False",
         "False",
         "False",
         "True",
         "False",
         "False",
         "False",
         "False",
         "False",
         "False",
         "False",
         "False",
         "False",
         "False",
         "True",
         "False",
         "True",
         "False",
         "False",
         "False",
         "False",
         "True",
         "False",
         "False",
         "False",
         "False",
         "False",
         "True",
         "False",
         "False",
         "False",
         "False",
         "False",
         "True",
         "False",
         "False",
         "True",
         "False",
         "False",
         "False",
         "False",
         "False",
         "False",
         "False",
         "True",
         "False",
         "False",
         "False",
         "True",
         "False",
         "False",
         "False",
         "True",
         "False",
         "False",
         "False",
         "False",
         "False",
         "False",
         "False",
         "True",
         "False",
         "False",
         "False",
         "False",
         "False",
         "False",
         "True",
         "False",
         "False",
         "False",
         "False",
         "False",
         "True",
         "False",
         "False",
         "True",
         "False",
         "False",
         "False",
         "True",
         "False",
         "False",
         "False",
         "False",
         "True",
         "False",
         "True",
         "False",
         "False",
         "False",
         "False",
         "False",
         "False",
         "False",
         "False",
         "False",
         "False",
         "False",
         "True",
         "False",
         "False",
         "False",
         "False",
         "True",
         "False"
        ],
        [
         "1",
         "2",
         "20",
         "80.0",
         "9600",
         "6",
         "8",
         "1976",
         "1976",
         "0.0",
         "978",
         "0",
         "284",
         "1262",
         "1262",
         "0",
         "0",
         "1262",
         "0",
         "1",
         "2",
         "0",
         "3",
         "1",
         "6",
         "1",
         "1976.0",
         "2",
         "460",
         "298",
         "0",
         "0",
         "0",
         "0",
         "0",
         "0",
         "5",
         "2007",
         "181500",
         "False",
         "False",
         "False",
         "True",
         "False",
         "False",
         "True",
         "False",
         "True",
         "False",
         "False",
         "False",
         "False",
         "True",
         "False",
         "False",
         "False",
         "True",
         "True",
         "False",
         "False",
         "False",
         "True",
         "False",
         "False",
         "True",
         "False",
         "False",
         "False",
         "False",
         "False",
         "False",
         "False",
         "False",
         "False",
         "False",
         "False",
         "False",
         "False",
         "False",
         "False",
         "False",
         "False",
         "False",
         "False",
         "False",
         "False",
         "False",
         "False",
         "False",
         "False",
         "False",
         "True",
         "False",
         "True",
         "False",
         "False",
         "False",
         "False",
         "False",
         "False",
         "False",
         "False",
         "False",
         "True",
         "False",
         "False",
         "False",
         "False",
         "False",
         "True",
         "False",
         "False",
         "False",
         "False",
         "False",
         "False",
         "True",
         "False",
         "False",
         "False",
         "False",
         "False",
         "False",
         "True",
         "False",
         "False",
         "False",
         "False",
         "False",
         "True",
         "False",
         "False",
         "False",
         "False",
         "False",
         "False",
         "False",
         "False",
         "False",
         "False",
         "False",
         "False",
         "False",
         "False",
         "True",
         "False",
         "False",
         "False",
         "False",
         "False",
         "False",
         "False",
         "False",
         "False",
         "False",
         "False",
         "False",
         "False",
         "False",
         "True",
         "False",
         "False",
         "False",
         "False",
         "False",
         "False",
         "False",
         "False",
         "False",
         "True",
         "False",
         "False",
         "False",
         "False",
         "True",
         "False",
         "False",
         "False",
         "False",
         "True",
         "False",
         "True",
         "False",
         "False",
         "False",
         "False",
         "False",
         "False",
         "True",
         "False",
         "False",
         "False",
         "False",
         "False",
         "False",
         "True",
         "False",
         "True",
         "False",
         "False",
         "False",
         "True",
         "False",
         "False",
         "False",
         "False",
         "False",
         "False",
         "False",
         "False",
         "False",
         "False",
         "False",
         "False",
         "True",
         "False",
         "True",
         "False",
         "False",
         "False",
         "False",
         "True",
         "False",
         "False",
         "False",
         "False",
         "False",
         "True",
         "False",
         "False",
         "False",
         "False",
         "False",
         "True",
         "False",
         "False",
         "False",
         "True",
         "False",
         "False",
         "False",
         "False",
         "False",
         "False",
         "True",
         "False",
         "False",
         "False",
         "False",
         "False",
         "True",
         "False",
         "True",
         "False",
         "False",
         "False",
         "False",
         "False",
         "False",
         "False",
         "True",
         "False",
         "False",
         "False",
         "False",
         "False",
         "False",
         "True",
         "False",
         "False",
         "False",
         "False",
         "False",
         "True",
         "False",
         "False",
         "True",
         "False",
         "False",
         "False",
         "True",
         "False",
         "False",
         "False",
         "False",
         "True",
         "False",
         "True",
         "False",
         "False",
         "False",
         "False",
         "False",
         "False",
         "False",
         "False",
         "False",
         "False",
         "False",
         "True",
         "False",
         "False",
         "False",
         "False",
         "True",
         "False"
        ],
        [
         "2",
         "3",
         "60",
         "68.0",
         "11250",
         "7",
         "5",
         "2001",
         "2002",
         "162.0",
         "486",
         "0",
         "434",
         "920",
         "920",
         "866",
         "0",
         "1786",
         "1",
         "0",
         "2",
         "1",
         "3",
         "1",
         "6",
         "1",
         "2001.0",
         "2",
         "608",
         "0",
         "42",
         "0",
         "0",
         "0",
         "0",
         "0",
         "9",
         "2008",
         "223500",
         "False",
         "False",
         "False",
         "True",
         "False",
         "False",
         "True",
         "False",
         "True",
         "False",
         "True",
         "False",
         "False",
         "False",
         "False",
         "False",
         "False",
         "True",
         "True",
         "False",
         "False",
         "False",
         "False",
         "False",
         "True",
         "True",
         "False",
         "False",
         "False",
         "False",
         "False",
         "False",
         "False",
         "True",
         "False",
         "False",
         "False",
         "False",
         "False",
         "False",
         "False",
         "False",
         "False",
         "False",
         "False",
         "False",
         "False",
         "False",
         "False",
         "False",
         "False",
         "False",
         "False",
         "False",
         "False",
         "True",
         "False",
         "False",
         "False",
         "False",
         "False",
         "False",
         "False",
         "False",
         "True",
         "False",
         "False",
         "False",
         "False",
         "False",
         "True",
         "False",
         "False",
         "False",
         "False",
         "False",
         "False",
         "False",
         "False",
         "False",
         "True",
         "False",
         "False",
         "False",
         "True",
         "False",
         "False",
         "False",
         "False",
         "False",
         "True",
         "False",
         "False",
         "False",
         "False",
         "False",
         "False",
         "False",
         "False",
         "False",
         "False",
         "False",
         "False",
         "False",
         "False",
         "False",
         "False",
         "False",
         "False",
         "True",
         "False",
         "False",
         "False",
         "False",
         "False",
         "False",
         "False",
         "False",
         "False",
         "False",
         "False",
         "False",
         "False",
         "False",
         "False",
         "True",
         "False",
         "False",
         "False",
         "True",
         "False",
         "False",
         "False",
         "False",
         "True",
         "False",
         "False",
         "False",
         "False",
         "False",
         "True",
         "False",
         "False",
         "True",
         "False",
         "False",
         "False",
         "False",
         "False",
         "True",
         "False",
         "False",
         "False",
         "False",
         "False",
         "False",
         "True",
         "False",
         "False",
         "True",
         "False",
         "False",
         "False",
         "False",
         "True",
         "False",
         "False",
         "False",
         "False",
         "False",
         "False",
         "False",
         "False",
         "False",
         "False",
         "True",
         "False",
         "True",
         "False",
         "False",
         "False",
         "False",
         "True",
         "False",
         "False",
         "False",
         "False",
         "False",
         "True",
         "False",
         "False",
         "False",
         "False",
         "False",
         "True",
         "False",
         "False",
         "True",
         "False",
         "False",
         "False",
         "False",
         "False",
         "False",
         "False",
         "True",
         "False",
         "False",
         "False",
         "False",
         "False",
         "True",
         "False",
         "True",
         "False",
         "False",
         "False",
         "False",
         "False",
         "False",
         "False",
         "True",
         "False",
         "False",
         "False",
         "False",
         "False",
         "False",
         "True",
         "False",
         "False",
         "False",
         "False",
         "False",
         "True",
         "False",
         "False",
         "True",
         "False",
         "False",
         "False",
         "True",
         "False",
         "False",
         "False",
         "False",
         "True",
         "False",
         "True",
         "False",
         "False",
         "False",
         "False",
         "False",
         "False",
         "False",
         "False",
         "False",
         "False",
         "False",
         "True",
         "False",
         "False",
         "False",
         "False",
         "True",
         "False"
        ],
        [
         "3",
         "4",
         "70",
         "60.0",
         "9550",
         "7",
         "5",
         "1915",
         "1970",
         "0.0",
         "216",
         "0",
         "540",
         "756",
         "961",
         "756",
         "0",
         "1717",
         "1",
         "0",
         "1",
         "0",
         "3",
         "1",
         "7",
         "1",
         "1998.0",
         "3",
         "642",
         "0",
         "35",
         "272",
         "0",
         "0",
         "0",
         "0",
         "2",
         "2006",
         "140000",
         "False",
         "False",
         "False",
         "True",
         "False",
         "False",
         "True",
         "False",
         "True",
         "False",
         "True",
         "False",
         "False",
         "False",
         "False",
         "False",
         "False",
         "True",
         "True",
         "False",
         "True",
         "False",
         "False",
         "False",
         "False",
         "True",
         "False",
         "False",
         "False",
         "False",
         "False",
         "False",
         "False",
         "False",
         "True",
         "False",
         "False",
         "False",
         "False",
         "False",
         "False",
         "False",
         "False",
         "False",
         "False",
         "False",
         "False",
         "False",
         "False",
         "False",
         "False",
         "False",
         "False",
         "False",
         "False",
         "True",
         "False",
         "False",
         "False",
         "False",
         "False",
         "False",
         "False",
         "False",
         "True",
         "False",
         "False",
         "False",
         "False",
         "False",
         "True",
         "False",
         "False",
         "False",
         "False",
         "False",
         "False",
         "False",
         "False",
         "False",
         "True",
         "False",
         "False",
         "False",
         "True",
         "False",
         "False",
         "False",
         "False",
         "False",
         "True",
         "False",
         "False",
         "False",
         "False",
         "False",
         "False",
         "False",
         "False",
         "False",
         "False",
         "False",
         "False",
         "False",
         "False",
         "False",
         "False",
         "False",
         "False",
         "False",
         "True",
         "False",
         "False",
         "False",
         "False",
         "False",
         "False",
         "False",
         "False",
         "False",
         "False",
         "False",
         "False",
         "False",
         "False",
         "False",
         "False",
         "True",
         "False",
         "False",
         "True",
         "False",
         "False",
         "False",
         "False",
         "True",
         "False",
         "False",
         "False",
         "False",
         "True",
         "True",
         "False",
         "False",
         "False",
         "False",
         "False",
         "False",
         "False",
         "False",
         "False",
         "True",
         "False",
         "True",
         "False",
         "False",
         "False",
         "False",
         "False",
         "False",
         "True",
         "False",
         "True",
         "False",
         "False",
         "False",
         "False",
         "False",
         "False",
         "False",
         "False",
         "False",
         "False",
         "False",
         "False",
         "True",
         "False",
         "True",
         "False",
         "False",
         "False",
         "False",
         "False",
         "False",
         "True",
         "False",
         "False",
         "False",
         "True",
         "False",
         "False",
         "False",
         "False",
         "False",
         "True",
         "False",
         "False",
         "True",
         "False",
         "False",
         "False",
         "False",
         "False",
         "False",
         "False",
         "True",
         "False",
         "False",
         "True",
         "False",
         "False",
         "False",
         "False",
         "False",
         "False",
         "False",
         "False",
         "True",
         "False",
         "False",
         "False",
         "False",
         "True",
         "False",
         "False",
         "False",
         "False",
         "False",
         "True",
         "False",
         "False",
         "False",
         "False",
         "False",
         "True",
         "False",
         "False",
         "True",
         "False",
         "False",
         "False",
         "True",
         "False",
         "False",
         "False",
         "False",
         "True",
         "False",
         "True",
         "False",
         "False",
         "False",
         "False",
         "False",
         "False",
         "False",
         "False",
         "False",
         "False",
         "False",
         "True",
         "True",
         "False",
         "False",
         "False",
         "False",
         "False"
        ],
        [
         "4",
         "5",
         "60",
         "84.0",
         "14260",
         "8",
         "5",
         "2000",
         "2000",
         "350.0",
         "655",
         "0",
         "490",
         "1145",
         "1145",
         "1053",
         "0",
         "2198",
         "1",
         "0",
         "2",
         "1",
         "4",
         "1",
         "9",
         "1",
         "2000.0",
         "3",
         "836",
         "192",
         "84",
         "0",
         "0",
         "0",
         "0",
         "0",
         "12",
         "2008",
         "250000",
         "False",
         "False",
         "False",
         "True",
         "False",
         "False",
         "True",
         "False",
         "True",
         "False",
         "True",
         "False",
         "False",
         "False",
         "False",
         "False",
         "False",
         "True",
         "True",
         "False",
         "False",
         "False",
         "True",
         "False",
         "False",
         "True",
         "False",
         "False",
         "False",
         "False",
         "False",
         "False",
         "False",
         "False",
         "False",
         "False",
         "False",
         "False",
         "False",
         "False",
         "False",
         "False",
         "False",
         "True",
         "False",
         "False",
         "False",
         "False",
         "False",
         "False",
         "False",
         "False",
         "False",
         "False",
         "False",
         "True",
         "False",
         "False",
         "False",
         "False",
         "False",
         "False",
         "False",
         "False",
         "True",
         "False",
         "False",
         "False",
         "False",
         "False",
         "True",
         "False",
         "False",
         "False",
         "False",
         "False",
         "False",
         "False",
         "False",
         "False",
         "True",
         "False",
         "False",
         "False",
         "True",
         "False",
         "False",
         "False",
         "False",
         "False",
         "True",
         "False",
         "False",
         "False",
         "False",
         "False",
         "False",
         "False",
         "False",
         "False",
         "False",
         "False",
         "False",
         "False",
         "False",
         "False",
         "False",
         "False",
         "False",
         "True",
         "False",
         "False",
         "False",
         "False",
         "False",
         "False",
         "False",
         "False",
         "False",
         "False",
         "False",
         "False",
         "False",
         "False",
         "False",
         "True",
         "False",
         "False",
         "False",
         "True",
         "False",
         "False",
         "False",
         "False",
         "True",
         "False",
         "False",
         "False",
         "False",
         "False",
         "True",
         "False",
         "False",
         "True",
         "False",
         "False",
         "False",
         "False",
         "False",
         "True",
         "False",
         "False",
         "False",
         "False",
         "False",
         "False",
         "True",
         "True",
         "False",
         "False",
         "False",
         "False",
         "False",
         "False",
         "True",
         "False",
         "False",
         "False",
         "False",
         "False",
         "False",
         "False",
         "False",
         "False",
         "False",
         "True",
         "False",
         "True",
         "False",
         "False",
         "False",
         "False",
         "True",
         "False",
         "False",
         "False",
         "False",
         "False",
         "True",
         "False",
         "False",
         "False",
         "False",
         "False",
         "True",
         "False",
         "False",
         "True",
         "False",
         "False",
         "False",
         "False",
         "False",
         "False",
         "False",
         "True",
         "False",
         "False",
         "False",
         "False",
         "False",
         "True",
         "False",
         "True",
         "False",
         "False",
         "False",
         "False",
         "False",
         "False",
         "False",
         "True",
         "False",
         "False",
         "False",
         "False",
         "False",
         "False",
         "True",
         "False",
         "False",
         "False",
         "False",
         "False",
         "True",
         "False",
         "False",
         "True",
         "False",
         "False",
         "False",
         "True",
         "False",
         "False",
         "False",
         "False",
         "True",
         "False",
         "True",
         "False",
         "False",
         "False",
         "False",
         "False",
         "False",
         "False",
         "False",
         "False",
         "False",
         "False",
         "True",
         "False",
         "False",
         "False",
         "False",
         "True",
         "False"
        ]
       ],
       "shape": {
        "columns": 305,
        "rows": 5
       }
      },
      "text/html": [
       "<div>\n",
       "<style scoped>\n",
       "    .dataframe tbody tr th:only-of-type {\n",
       "        vertical-align: middle;\n",
       "    }\n",
       "\n",
       "    .dataframe tbody tr th {\n",
       "        vertical-align: top;\n",
       "    }\n",
       "\n",
       "    .dataframe thead th {\n",
       "        text-align: right;\n",
       "    }\n",
       "</style>\n",
       "<table border=\"1\" class=\"dataframe\">\n",
       "  <thead>\n",
       "    <tr style=\"text-align: right;\">\n",
       "      <th></th>\n",
       "      <th>Id</th>\n",
       "      <th>MSSubClass</th>\n",
       "      <th>LotFrontage</th>\n",
       "      <th>LotArea</th>\n",
       "      <th>OverallQual</th>\n",
       "      <th>OverallCond</th>\n",
       "      <th>YearBuilt</th>\n",
       "      <th>YearRemodAdd</th>\n",
       "      <th>MasVnrArea</th>\n",
       "      <th>BsmtFinSF1</th>\n",
       "      <th>...</th>\n",
       "      <th>SaleType_ConLw</th>\n",
       "      <th>SaleType_New</th>\n",
       "      <th>SaleType_Oth</th>\n",
       "      <th>SaleType_WD</th>\n",
       "      <th>SaleCondition_Abnorml</th>\n",
       "      <th>SaleCondition_AdjLand</th>\n",
       "      <th>SaleCondition_Alloca</th>\n",
       "      <th>SaleCondition_Family</th>\n",
       "      <th>SaleCondition_Normal</th>\n",
       "      <th>SaleCondition_Partial</th>\n",
       "    </tr>\n",
       "  </thead>\n",
       "  <tbody>\n",
       "    <tr>\n",
       "      <th>0</th>\n",
       "      <td>1</td>\n",
       "      <td>60</td>\n",
       "      <td>65.0</td>\n",
       "      <td>8450</td>\n",
       "      <td>7</td>\n",
       "      <td>5</td>\n",
       "      <td>2003</td>\n",
       "      <td>2003</td>\n",
       "      <td>196.0</td>\n",
       "      <td>706</td>\n",
       "      <td>...</td>\n",
       "      <td>False</td>\n",
       "      <td>False</td>\n",
       "      <td>False</td>\n",
       "      <td>True</td>\n",
       "      <td>False</td>\n",
       "      <td>False</td>\n",
       "      <td>False</td>\n",
       "      <td>False</td>\n",
       "      <td>True</td>\n",
       "      <td>False</td>\n",
       "    </tr>\n",
       "    <tr>\n",
       "      <th>1</th>\n",
       "      <td>2</td>\n",
       "      <td>20</td>\n",
       "      <td>80.0</td>\n",
       "      <td>9600</td>\n",
       "      <td>6</td>\n",
       "      <td>8</td>\n",
       "      <td>1976</td>\n",
       "      <td>1976</td>\n",
       "      <td>0.0</td>\n",
       "      <td>978</td>\n",
       "      <td>...</td>\n",
       "      <td>False</td>\n",
       "      <td>False</td>\n",
       "      <td>False</td>\n",
       "      <td>True</td>\n",
       "      <td>False</td>\n",
       "      <td>False</td>\n",
       "      <td>False</td>\n",
       "      <td>False</td>\n",
       "      <td>True</td>\n",
       "      <td>False</td>\n",
       "    </tr>\n",
       "    <tr>\n",
       "      <th>2</th>\n",
       "      <td>3</td>\n",
       "      <td>60</td>\n",
       "      <td>68.0</td>\n",
       "      <td>11250</td>\n",
       "      <td>7</td>\n",
       "      <td>5</td>\n",
       "      <td>2001</td>\n",
       "      <td>2002</td>\n",
       "      <td>162.0</td>\n",
       "      <td>486</td>\n",
       "      <td>...</td>\n",
       "      <td>False</td>\n",
       "      <td>False</td>\n",
       "      <td>False</td>\n",
       "      <td>True</td>\n",
       "      <td>False</td>\n",
       "      <td>False</td>\n",
       "      <td>False</td>\n",
       "      <td>False</td>\n",
       "      <td>True</td>\n",
       "      <td>False</td>\n",
       "    </tr>\n",
       "    <tr>\n",
       "      <th>3</th>\n",
       "      <td>4</td>\n",
       "      <td>70</td>\n",
       "      <td>60.0</td>\n",
       "      <td>9550</td>\n",
       "      <td>7</td>\n",
       "      <td>5</td>\n",
       "      <td>1915</td>\n",
       "      <td>1970</td>\n",
       "      <td>0.0</td>\n",
       "      <td>216</td>\n",
       "      <td>...</td>\n",
       "      <td>False</td>\n",
       "      <td>False</td>\n",
       "      <td>False</td>\n",
       "      <td>True</td>\n",
       "      <td>True</td>\n",
       "      <td>False</td>\n",
       "      <td>False</td>\n",
       "      <td>False</td>\n",
       "      <td>False</td>\n",
       "      <td>False</td>\n",
       "    </tr>\n",
       "    <tr>\n",
       "      <th>4</th>\n",
       "      <td>5</td>\n",
       "      <td>60</td>\n",
       "      <td>84.0</td>\n",
       "      <td>14260</td>\n",
       "      <td>8</td>\n",
       "      <td>5</td>\n",
       "      <td>2000</td>\n",
       "      <td>2000</td>\n",
       "      <td>350.0</td>\n",
       "      <td>655</td>\n",
       "      <td>...</td>\n",
       "      <td>False</td>\n",
       "      <td>False</td>\n",
       "      <td>False</td>\n",
       "      <td>True</td>\n",
       "      <td>False</td>\n",
       "      <td>False</td>\n",
       "      <td>False</td>\n",
       "      <td>False</td>\n",
       "      <td>True</td>\n",
       "      <td>False</td>\n",
       "    </tr>\n",
       "  </tbody>\n",
       "</table>\n",
       "<p>5 rows × 305 columns</p>\n",
       "</div>"
      ],
      "text/plain": [
       "   Id  MSSubClass  LotFrontage  LotArea  OverallQual  OverallCond  YearBuilt  \\\n",
       "0   1          60         65.0     8450            7            5       2003   \n",
       "1   2          20         80.0     9600            6            8       1976   \n",
       "2   3          60         68.0    11250            7            5       2001   \n",
       "3   4          70         60.0     9550            7            5       1915   \n",
       "4   5          60         84.0    14260            8            5       2000   \n",
       "\n",
       "   YearRemodAdd  MasVnrArea  BsmtFinSF1  ...  SaleType_ConLw  SaleType_New  \\\n",
       "0          2003       196.0         706  ...           False         False   \n",
       "1          1976         0.0         978  ...           False         False   \n",
       "2          2002       162.0         486  ...           False         False   \n",
       "3          1970         0.0         216  ...           False         False   \n",
       "4          2000       350.0         655  ...           False         False   \n",
       "\n",
       "   SaleType_Oth  SaleType_WD  SaleCondition_Abnorml  SaleCondition_AdjLand  \\\n",
       "0         False         True                  False                  False   \n",
       "1         False         True                  False                  False   \n",
       "2         False         True                  False                  False   \n",
       "3         False         True                   True                  False   \n",
       "4         False         True                  False                  False   \n",
       "\n",
       "   SaleCondition_Alloca  SaleCondition_Family  SaleCondition_Normal  \\\n",
       "0                 False                 False                  True   \n",
       "1                 False                 False                  True   \n",
       "2                 False                 False                  True   \n",
       "3                 False                 False                 False   \n",
       "4                 False                 False                  True   \n",
       "\n",
       "   SaleCondition_Partial  \n",
       "0                  False  \n",
       "1                  False  \n",
       "2                  False  \n",
       "3                  False  \n",
       "4                  False  \n",
       "\n",
       "[5 rows x 305 columns]"
      ]
     },
     "execution_count": 35,
     "metadata": {},
     "output_type": "execute_result"
    }
   ],
   "source": [
    "train.head()"
   ]
  },
  {
   "cell_type": "markdown",
   "id": "f55c18e0",
   "metadata": {},
   "source": [
    "But sometimes train and test have different number of columns after one-hot. To handle:"
   ]
  },
  {
   "cell_type": "code",
   "execution_count": 36,
   "id": "aa4df335",
   "metadata": {},
   "outputs": [],
   "source": [
    "# Đảm bảo train và test có cùng số lượng và thứ tự cột (sau khi get_dummies()), để mô hình có thể học và dự đoán chính xác, không bị lỗi do lệch cột.\n",
    "\n",
    "train, test = train.align(test, join='left', axis=1, fill_value=0)\n",
    "\n",
    "# Sử dụng train.align() – đây là một hàm trong Pandas trả về 2 DataFrame, nên ta phải gán cả hai đầu ra cùng lúc.\n",
    "# Cụ thể: train.align(test) trả về 2 giá trị:\n",
    "# ~ Một bản train đã được căn chỉnh lại cột theo thứ tự của test, nhưng chỉ giữ những cột có ở train\n",
    "# ~ Một bản test đã được căn chỉnh lại theo train\n",
    "\n",
    "# join='left'\tDùng các cột của train làm chuẩn. Các cột có trong train mà không có trong test sẽ được thêm vào test và điền bằng fill_value. \n",
    "#               Các cột chỉ có trong test nhưng không có trong train sẽ bị loại bỏ.\n",
    "# axis=1\t    Ghép theo cột (columns).\n",
    "# fill_value=0\tNếu test thiếu cột nào so với train, thì cột đó sẽ được tạo và gán giá trị mặc định là 0."
   ]
  },
  {
   "cell_type": "markdown",
   "id": "fb9775c9",
   "metadata": {},
   "source": [
    "## 4. Split to features and target (X và y)\n",
    "\n",
    "Prepare data to train the model"
   ]
  },
  {
   "cell_type": "markdown",
   "id": "5a5d3a43",
   "metadata": {},
   "source": [
    "### 4.1. Create feature set X (input)\n",
    "\n",
    "X = train.drop(\"SalePrice\", axis=1).\n",
    "\n",
    "Meaning:\n",
    "+ X is the input set (features/input data for the model to learn).\n",
    "+ You are dropping the SalePrice column from the train DataFrame, meaning:\n",
    "+ The input data is all columns except SalePrice\n",
    "+ Because SalePrice is the output (label/target) — house price — what you want the model to predict\n",
    "\n",
    "→ X = feature set."
   ]
  },
  {
   "cell_type": "code",
   "execution_count": 37,
   "id": "ec400ec6",
   "metadata": {},
   "outputs": [],
   "source": [
    "X_full_train = train.drop('SalePrice', axis=1)\n",
    "# axis=1 → thao tác theo chiều cột (column)\n",
    "\n",
    "X_test = test.drop('SalePrice', axis=1)"
   ]
  },
  {
   "cell_type": "markdown",
   "id": "06c9a1f4",
   "metadata": {},
   "source": [
    "### 4.2. Create set of true house price y (output)\n",
    "\n",
    "y = train[\"SalePrice\"]\n",
    "\n",
    "Meaning:\n",
    "+ y is the output/label, which is the actual house price, which you want the model to learn to predict."
   ]
  },
  {
   "cell_type": "code",
   "execution_count": 38,
   "id": "df80fdf2",
   "metadata": {},
   "outputs": [],
   "source": [
    "y_full_train = train['SalePrice']\n",
    "y_test = test['SalePrice']"
   ]
  },
  {
   "cell_type": "markdown",
   "id": "09251ccb",
   "metadata": {},
   "source": [
    "## 5. Feature Scaling"
   ]
  },
  {
   "cell_type": "markdown",
   "id": "c5e65105",
   "metadata": {},
   "source": [
    "Many models need to scale data to the same unit (e.g. KNN, SVM, Ridge, Lasso, etc.)\n",
    "\n",
    "Use StandardScaler (z-score normalization) (because the model uses Linear Regression to predict)"
   ]
  },
  {
   "cell_type": "code",
   "execution_count": 39,
   "id": "24b7602b",
   "metadata": {},
   "outputs": [],
   "source": [
    "from sklearn.preprocessing import StandardScaler\n",
    "\n",
    "scaler = StandardScaler()\n",
    "\n",
    "X_full_train = scaler.fit_transform(X_full_train)\n",
    "# fit_transform(X) - Làm 2 việc:\n",
    "# ~ fit(X): Tính toán mean và standard deviation trên X, sau đó σ và μ (của X) được lưu lại trong scaler.\n",
    "# ~ transform(X): Áp dụng công thức chuẩn hóa (z-score) \n",
    "\n",
    "X_test = scaler.transform(X_test)  # Áp dụng chuẩn hóa của X (cái cột X_train và X_test phải giống nhau)"
   ]
  },
  {
   "cell_type": "markdown",
   "id": "986e7850",
   "metadata": {},
   "source": [
    "## 6. Train-Test Split (to evaluate model)"
   ]
  },
  {
   "cell_type": "markdown",
   "id": "77ce38dc",
   "metadata": {},
   "source": [
    "From the initial training set, we will split it into 2 parts:\n",
    "+ Train (take 0.8 - to train the model)\n",
    "+ Cross-validation (take 0.2 - to evaluate the model)"
   ]
  },
  {
   "cell_type": "code",
   "execution_count": 40,
   "id": "0e0fa81b",
   "metadata": {},
   "outputs": [],
   "source": [
    "from sklearn.model_selection import train_test_split\n",
    "\n",
    "X_train, X_cv, y_train, y_cv = train_test_split(X_full_train, y_full_train, test_size=0.2, random_state=42)"
   ]
  }
 ],
 "metadata": {
  "kernelspec": {
   "display_name": "Python 3",
   "language": "python",
   "name": "python3"
  },
  "language_info": {
   "codemirror_mode": {
    "name": "ipython",
    "version": 3
   },
   "file_extension": ".py",
   "mimetype": "text/x-python",
   "name": "python",
   "nbconvert_exporter": "python",
   "pygments_lexer": "ipython3",
   "version": "3.12.6"
  }
 },
 "nbformat": 4,
 "nbformat_minor": 5
}
